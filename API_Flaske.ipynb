{
  "nbformat": 4,
  "nbformat_minor": 0,
  "metadata": {
    "colab": {
      "provenance": [],
      "authorship_tag": "ABX9TyOxSival+BCUqt+kU2hcEeT",
      "include_colab_link": true
    },
    "kernelspec": {
      "name": "python3",
      "display_name": "Python 3"
    },
    "language_info": {
      "name": "python"
    }
  },
  "cells": [
    {
      "cell_type": "markdown",
      "metadata": {
        "id": "view-in-github",
        "colab_type": "text"
      },
      "source": [
        "<a href=\"https://colab.research.google.com/github/tdlima/api_flaske_colab/blob/main/API_Flaske.ipynb\" target=\"_parent\"><img src=\"https://colab.research.google.com/assets/colab-badge.svg\" alt=\"Open In Colab\"/></a>"
      ]
    },
    {
      "cell_type": "code",
      "execution_count": null,
      "metadata": {
        "id": "9NRFdW6J2xSR"
      },
      "outputs": [],
      "source": [
        "!pip install flask_ngrok"
      ]
    },
    {
      "cell_type": "code",
      "source": [
        "import pandas as pd\n",
        "from flask_ngrok import run_with_ngrok\n",
        "from flask import request, jsonify, Flask\n",
        "import random as rk"
      ],
      "metadata": {
        "id": "BhyhpRQU3wtW"
      },
      "execution_count": 2,
      "outputs": []
    },
    {
      "cell_type": "code",
      "source": [
        "app = Flask(__name__)\n",
        "run_with_ngrok(app)\n",
        "\n",
        "d = {\n",
        "    \"name\": \"Junior\",\n",
        "    \"surname\": \"Lima\",\n",
        "    \"idade\": 40\n",
        "      }\n",
        "\n",
        "@app.route(\"/\")\n",
        "\n",
        "def home():\n",
        "  '''\n",
        "  Tudo aqui deve ser escrito em uma única linha.\n",
        "  '''\n",
        "  return \"<marquee><h3> PARA VERIFICAR ADICIONE '/input' A URL E PARA VERIFICAR ADICIONE '/output' A URL.</h3></marquee>\"\n",
        "\n",
        "@app.route(\"/input\")\n",
        "\n",
        "def input():\n",
        "  return jsonify(d)\n",
        "\n",
        "@app.route('/output', methods=['GET','POST'])\n",
        "\n",
        "def predJson():\n",
        " pred = rk.choice([\"positivo\",\"negativo\"])\n",
        " nd = d # our input\n",
        " nd[\"prediction\"]=pred\n",
        " return jsonify(nd)\n",
        "\n",
        "app.run()"
      ],
      "metadata": {
        "id": "j4lcTyrp32G3"
      },
      "execution_count": null,
      "outputs": []
    }
  ]
}